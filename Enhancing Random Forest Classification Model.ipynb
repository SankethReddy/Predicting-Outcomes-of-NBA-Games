{
 "cells": [
  {
   "cell_type": "markdown",
   "id": "480d2823",
   "metadata": {},
   "source": [
    "## From the `EDA and ML Modeling.ipynb` file, the Random Forest Classification Model performed the best\n",
    "\n",
    "## This file will try and enhance that model"
   ]
  },
  {
   "cell_type": "code",
   "execution_count": 1,
   "id": "6476ed7d",
   "metadata": {},
   "outputs": [],
   "source": [
    "import pandas as pd\n",
    "import numpy as np\n",
    "import matplotlib.pyplot as plt\n",
    "import seaborn as sns\n",
    "import datetime"
   ]
  },
  {
   "cell_type": "code",
   "execution_count": 2,
   "id": "547d9d6e",
   "metadata": {},
   "outputs": [
    {
     "data": {
      "text/html": [
       "<div>\n",
       "<style scoped>\n",
       "    .dataframe tbody tr th:only-of-type {\n",
       "        vertical-align: middle;\n",
       "    }\n",
       "\n",
       "    .dataframe tbody tr th {\n",
       "        vertical-align: top;\n",
       "    }\n",
       "\n",
       "    .dataframe thead th {\n",
       "        text-align: right;\n",
       "    }\n",
       "</style>\n",
       "<table border=\"1\" class=\"dataframe\">\n",
       "  <thead>\n",
       "    <tr style=\"text-align: right;\">\n",
       "      <th></th>\n",
       "      <th>GAME_DATE_EST</th>\n",
       "      <th>GAME_ID</th>\n",
       "      <th>SEASON</th>\n",
       "      <th>TEAM_ID_HOME</th>\n",
       "      <th>TEAM_CITY_HOME</th>\n",
       "      <th>TEAM_NICKNAME_HOME</th>\n",
       "      <th>GAME_NUMBER_TEAM_HOME</th>\n",
       "      <th>TEAM_ID_AWAY</th>\n",
       "      <th>TEAM_CITY_AWAY</th>\n",
       "      <th>TEAM_NICKNAME_AWAY</th>\n",
       "      <th>...</th>\n",
       "      <th>PTS_DIFFERENCE</th>\n",
       "      <th>FG_PCT_DIFFERENCE</th>\n",
       "      <th>FT_PCT_DIFFERENCE</th>\n",
       "      <th>FG3_PCT_DIFFERENCE</th>\n",
       "      <th>AST_DIFFERENCE</th>\n",
       "      <th>REB_DIFFERENCE</th>\n",
       "      <th>STREAK_DIFFERENCE</th>\n",
       "      <th>W_PCT_DIFFERENCE</th>\n",
       "      <th>HOME_ROAD_W_PCT_DIFFERENCE</th>\n",
       "      <th>HOME_TEAM_WINS</th>\n",
       "    </tr>\n",
       "  </thead>\n",
       "  <tbody>\n",
       "    <tr>\n",
       "      <th>0</th>\n",
       "      <td>2003-10-30</td>\n",
       "      <td>20300016</td>\n",
       "      <td>2003</td>\n",
       "      <td>1610612753</td>\n",
       "      <td>Orlando</td>\n",
       "      <td>Magic</td>\n",
       "      <td>2</td>\n",
       "      <td>1610612740</td>\n",
       "      <td>New Orleans</td>\n",
       "      <td>Pelicans</td>\n",
       "      <td>...</td>\n",
       "      <td>-3.0</td>\n",
       "      <td>0.044</td>\n",
       "      <td>-0.148</td>\n",
       "      <td>0.090</td>\n",
       "      <td>-7.0</td>\n",
       "      <td>-11.0</td>\n",
       "      <td>0.0</td>\n",
       "      <td>0.0</td>\n",
       "      <td>0.0</td>\n",
       "      <td>0</td>\n",
       "    </tr>\n",
       "    <tr>\n",
       "      <th>1</th>\n",
       "      <td>2003-10-30</td>\n",
       "      <td>20300018</td>\n",
       "      <td>2003</td>\n",
       "      <td>1610612756</td>\n",
       "      <td>Phoenix</td>\n",
       "      <td>Suns</td>\n",
       "      <td>2</td>\n",
       "      <td>1610612739</td>\n",
       "      <td>Cleveland</td>\n",
       "      <td>Cavaliers</td>\n",
       "      <td>...</td>\n",
       "      <td>-10.0</td>\n",
       "      <td>-0.104</td>\n",
       "      <td>0.143</td>\n",
       "      <td>-0.045</td>\n",
       "      <td>-10.0</td>\n",
       "      <td>4.0</td>\n",
       "      <td>0.0</td>\n",
       "      <td>0.0</td>\n",
       "      <td>0.0</td>\n",
       "      <td>1</td>\n",
       "    </tr>\n",
       "    <tr>\n",
       "      <th>2</th>\n",
       "      <td>2003-10-31</td>\n",
       "      <td>20300024</td>\n",
       "      <td>2003</td>\n",
       "      <td>1610612741</td>\n",
       "      <td>Chicago</td>\n",
       "      <td>Bulls</td>\n",
       "      <td>2</td>\n",
       "      <td>1610612737</td>\n",
       "      <td>Atlanta</td>\n",
       "      <td>Hawks</td>\n",
       "      <td>...</td>\n",
       "      <td>-9.0</td>\n",
       "      <td>-0.081</td>\n",
       "      <td>-0.124</td>\n",
       "      <td>0.017</td>\n",
       "      <td>-2.0</td>\n",
       "      <td>-11.0</td>\n",
       "      <td>0.0</td>\n",
       "      <td>0.0</td>\n",
       "      <td>0.0</td>\n",
       "      <td>1</td>\n",
       "    </tr>\n",
       "    <tr>\n",
       "      <th>3</th>\n",
       "      <td>2003-10-31</td>\n",
       "      <td>20300025</td>\n",
       "      <td>2003</td>\n",
       "      <td>1610612746</td>\n",
       "      <td>Los Angeles</td>\n",
       "      <td>Clippers</td>\n",
       "      <td>2</td>\n",
       "      <td>1610612760</td>\n",
       "      <td>Seattle</td>\n",
       "      <td>Thunder</td>\n",
       "      <td>...</td>\n",
       "      <td>-9.0</td>\n",
       "      <td>0.010</td>\n",
       "      <td>0.179</td>\n",
       "      <td>0.090</td>\n",
       "      <td>-1.0</td>\n",
       "      <td>6.0</td>\n",
       "      <td>-2.0</td>\n",
       "      <td>-1.0</td>\n",
       "      <td>0.0</td>\n",
       "      <td>0</td>\n",
       "    </tr>\n",
       "    <tr>\n",
       "      <th>4</th>\n",
       "      <td>2003-10-31</td>\n",
       "      <td>20300019</td>\n",
       "      <td>2003</td>\n",
       "      <td>1610612761</td>\n",
       "      <td>Toronto</td>\n",
       "      <td>Raptors</td>\n",
       "      <td>2</td>\n",
       "      <td>1610612764</td>\n",
       "      <td>Washington</td>\n",
       "      <td>Wizards</td>\n",
       "      <td>...</td>\n",
       "      <td>-9.0</td>\n",
       "      <td>-0.062</td>\n",
       "      <td>0.133</td>\n",
       "      <td>-0.250</td>\n",
       "      <td>-8.0</td>\n",
       "      <td>-3.0</td>\n",
       "      <td>0.0</td>\n",
       "      <td>0.0</td>\n",
       "      <td>0.0</td>\n",
       "      <td>1</td>\n",
       "    </tr>\n",
       "  </tbody>\n",
       "</table>\n",
       "<p>5 rows × 22 columns</p>\n",
       "</div>"
      ],
      "text/plain": [
       "  GAME_DATE_EST   GAME_ID  SEASON  TEAM_ID_HOME TEAM_CITY_HOME  \\\n",
       "0    2003-10-30  20300016    2003    1610612753        Orlando   \n",
       "1    2003-10-30  20300018    2003    1610612756        Phoenix   \n",
       "2    2003-10-31  20300024    2003    1610612741        Chicago   \n",
       "3    2003-10-31  20300025    2003    1610612746    Los Angeles   \n",
       "4    2003-10-31  20300019    2003    1610612761        Toronto   \n",
       "\n",
       "  TEAM_NICKNAME_HOME  GAME_NUMBER_TEAM_HOME  TEAM_ID_AWAY TEAM_CITY_AWAY  \\\n",
       "0              Magic                      2    1610612740    New Orleans   \n",
       "1               Suns                      2    1610612739      Cleveland   \n",
       "2              Bulls                      2    1610612737        Atlanta   \n",
       "3           Clippers                      2    1610612760        Seattle   \n",
       "4            Raptors                      2    1610612764     Washington   \n",
       "\n",
       "  TEAM_NICKNAME_AWAY  ...  PTS_DIFFERENCE  FG_PCT_DIFFERENCE  \\\n",
       "0           Pelicans  ...            -3.0              0.044   \n",
       "1          Cavaliers  ...           -10.0             -0.104   \n",
       "2              Hawks  ...            -9.0             -0.081   \n",
       "3            Thunder  ...            -9.0              0.010   \n",
       "4            Wizards  ...            -9.0             -0.062   \n",
       "\n",
       "   FT_PCT_DIFFERENCE  FG3_PCT_DIFFERENCE  AST_DIFFERENCE  REB_DIFFERENCE  \\\n",
       "0             -0.148               0.090            -7.0           -11.0   \n",
       "1              0.143              -0.045           -10.0             4.0   \n",
       "2             -0.124               0.017            -2.0           -11.0   \n",
       "3              0.179               0.090            -1.0             6.0   \n",
       "4              0.133              -0.250            -8.0            -3.0   \n",
       "\n",
       "   STREAK_DIFFERENCE  W_PCT_DIFFERENCE  HOME_ROAD_W_PCT_DIFFERENCE  \\\n",
       "0                0.0               0.0                         0.0   \n",
       "1                0.0               0.0                         0.0   \n",
       "2                0.0               0.0                         0.0   \n",
       "3               -2.0              -1.0                         0.0   \n",
       "4                0.0               0.0                         0.0   \n",
       "\n",
       "   HOME_TEAM_WINS  \n",
       "0               0  \n",
       "1               1  \n",
       "2               1  \n",
       "3               0  \n",
       "4               1  \n",
       "\n",
       "[5 rows x 22 columns]"
      ]
     },
     "execution_count": 2,
     "metadata": {},
     "output_type": "execute_result"
    }
   ],
   "source": [
    "df = pd.read_csv('Dataset For ML Modeling.csv')\n",
    "df.head()"
   ]
  },
  {
   "cell_type": "code",
   "execution_count": 3,
   "id": "d2d68f92",
   "metadata": {},
   "outputs": [
    {
     "name": "stdout",
     "output_type": "stream",
     "text": [
      "<class 'pandas.core.frame.DataFrame'>\n",
      "RangeIndex: 24073 entries, 0 to 24072\n",
      "Data columns (total 22 columns):\n",
      " #   Column                      Non-Null Count  Dtype  \n",
      "---  ------                      --------------  -----  \n",
      " 0   GAME_DATE_EST               24073 non-null  object \n",
      " 1   GAME_ID                     24073 non-null  int64  \n",
      " 2   SEASON                      24073 non-null  int64  \n",
      " 3   TEAM_ID_HOME                24073 non-null  int64  \n",
      " 4   TEAM_CITY_HOME              24073 non-null  object \n",
      " 5   TEAM_NICKNAME_HOME          24073 non-null  object \n",
      " 6   GAME_NUMBER_TEAM_HOME       24073 non-null  int64  \n",
      " 7   TEAM_ID_AWAY                24073 non-null  int64  \n",
      " 8   TEAM_CITY_AWAY              24073 non-null  object \n",
      " 9   TEAM_NICKNAME_AWAY          24073 non-null  object \n",
      " 10  GAME_NUMBER_TEAM_AWAY       24073 non-null  int64  \n",
      " 11  EFF_DIFFERENCE              24073 non-null  float64\n",
      " 12  PTS_DIFFERENCE              24073 non-null  float64\n",
      " 13  FG_PCT_DIFFERENCE           24073 non-null  float64\n",
      " 14  FT_PCT_DIFFERENCE           24073 non-null  float64\n",
      " 15  FG3_PCT_DIFFERENCE          24073 non-null  float64\n",
      " 16  AST_DIFFERENCE              24073 non-null  float64\n",
      " 17  REB_DIFFERENCE              24073 non-null  float64\n",
      " 18  STREAK_DIFFERENCE           24073 non-null  float64\n",
      " 19  W_PCT_DIFFERENCE            24073 non-null  float64\n",
      " 20  HOME_ROAD_W_PCT_DIFFERENCE  24073 non-null  float64\n",
      " 21  HOME_TEAM_WINS              24073 non-null  int64  \n",
      "dtypes: float64(10), int64(7), object(5)\n",
      "memory usage: 4.0+ MB\n"
     ]
    }
   ],
   "source": [
    "df.info()"
   ]
  },
  {
   "cell_type": "code",
   "execution_count": 4,
   "id": "1ab386f3",
   "metadata": {},
   "outputs": [],
   "source": [
    "feature_columns = ['EFF_DIFFERENCE', 'PTS_DIFFERENCE', 'FG_PCT_DIFFERENCE', 'FT_PCT_DIFFERENCE', 'FG3_PCT_DIFFERENCE', \n",
    "                   'AST_DIFFERENCE', 'REB_DIFFERENCE', 'STREAK_DIFFERENCE', 'W_PCT_DIFFERENCE', 'HOME_ROAD_W_PCT_DIFFERENCE']\n",
    "target_column = 'HOME_TEAM_WINS'\n",
    "X = df[feature_columns]\n",
    "y = df[target_column]"
   ]
  },
  {
   "cell_type": "code",
   "execution_count": 5,
   "id": "393d60da",
   "metadata": {},
   "outputs": [
    {
     "name": "stdout",
     "output_type": "stream",
     "text": [
      "Length of X_train: 18054\n",
      "Length of X_test: 6019\n",
      "Length of y_train: 18054\n",
      "Length of y_test: 6019\n"
     ]
    }
   ],
   "source": [
    "from sklearn.ensemble import RandomForestClassifier\n",
    "from sklearn.model_selection import train_test_split, GridSearchCV\n",
    "from sklearn.metrics import confusion_matrix, classification_report, accuracy_score\n",
    "X_train, X_test, y_train, y_test = train_test_split(X,y,test_size=0.25, random_state=0)\n",
    "print('Length of X_train:', len(X_train))\n",
    "print('Length of X_test:', len(X_test))\n",
    "print('Length of y_train:', len(y_train))\n",
    "print('Length of y_test:', len(y_test))"
   ]
  },
  {
   "cell_type": "code",
   "execution_count": 6,
   "id": "e2bfd01e",
   "metadata": {},
   "outputs": [
    {
     "name": "stdout",
     "output_type": "stream",
     "text": [
      "Random Forest Classification Report:\n",
      "              precision    recall  f1-score   support\n",
      "\n",
      "           0       0.61      0.46      0.52      2481\n",
      "           1       0.68      0.79      0.73      3538\n",
      "\n",
      "    accuracy                           0.66      6019\n",
      "   macro avg       0.64      0.63      0.63      6019\n",
      "weighted avg       0.65      0.66      0.65      6019\n",
      "\n",
      "\n",
      "Random Forest Confusion Matrix:\n",
      "[[1141 1340]\n",
      " [ 728 2810]]\n",
      "\n",
      "Random Forest Accuracy Score:\n",
      "0.6564213324472504\n"
     ]
    }
   ],
   "source": [
    "rfc = RandomForestClassifier(criterion='entropy', max_depth=4, n_estimators=100, random_state=0)\n",
    "rfc.fit(X_train, y_train)\n",
    "rfc_y_predictions = rfc.predict(X_test)\n",
    "print('Random Forest Classification Report:')\n",
    "print(classification_report(y_true=y_test, y_pred=rfc_y_predictions))\n",
    "print()\n",
    "print('Random Forest Confusion Matrix:')\n",
    "print(confusion_matrix(y_true=y_test, y_pred=rfc_y_predictions))\n",
    "print()\n",
    "print('Random Forest Accuracy Score:')\n",
    "print(accuracy_score(y_true=y_test, y_pred=rfc_y_predictions))"
   ]
  },
  {
   "cell_type": "markdown",
   "id": "f03fcb7e",
   "metadata": {},
   "source": [
    "#### From above, there are 1340 False Positives and 728 False Negatives\n",
    "#### Thus, the precision value is 0.68, the recall value is 0.79, the f1-score value is 0.73, and the overall accuracy value is 0.656 when the threshold for the model is set to 0.5"
   ]
  },
  {
   "cell_type": "code",
   "execution_count": 7,
   "id": "a0eadd7c",
   "metadata": {},
   "outputs": [
    {
     "data": {
      "text/html": [
       "<div>\n",
       "<style scoped>\n",
       "    .dataframe tbody tr th:only-of-type {\n",
       "        vertical-align: middle;\n",
       "    }\n",
       "\n",
       "    .dataframe tbody tr th {\n",
       "        vertical-align: top;\n",
       "    }\n",
       "\n",
       "    .dataframe thead th {\n",
       "        text-align: right;\n",
       "    }\n",
       "</style>\n",
       "<table border=\"1\" class=\"dataframe\">\n",
       "  <thead>\n",
       "    <tr style=\"text-align: right;\">\n",
       "      <th></th>\n",
       "      <th>Feature</th>\n",
       "      <th>Importance</th>\n",
       "    </tr>\n",
       "  </thead>\n",
       "  <tbody>\n",
       "    <tr>\n",
       "      <th>0</th>\n",
       "      <td>W_PCT_DIFFERENCE</td>\n",
       "      <td>0.437092</td>\n",
       "    </tr>\n",
       "    <tr>\n",
       "      <th>1</th>\n",
       "      <td>HOME_ROAD_W_PCT_DIFFERENCE</td>\n",
       "      <td>0.352991</td>\n",
       "    </tr>\n",
       "    <tr>\n",
       "      <th>2</th>\n",
       "      <td>EFF_DIFFERENCE</td>\n",
       "      <td>0.089832</td>\n",
       "    </tr>\n",
       "    <tr>\n",
       "      <th>3</th>\n",
       "      <td>STREAK_DIFFERENCE</td>\n",
       "      <td>0.044917</td>\n",
       "    </tr>\n",
       "    <tr>\n",
       "      <th>4</th>\n",
       "      <td>PTS_DIFFERENCE</td>\n",
       "      <td>0.028015</td>\n",
       "    </tr>\n",
       "    <tr>\n",
       "      <th>5</th>\n",
       "      <td>FG_PCT_DIFFERENCE</td>\n",
       "      <td>0.023284</td>\n",
       "    </tr>\n",
       "    <tr>\n",
       "      <th>6</th>\n",
       "      <td>FT_PCT_DIFFERENCE</td>\n",
       "      <td>0.007323</td>\n",
       "    </tr>\n",
       "    <tr>\n",
       "      <th>7</th>\n",
       "      <td>FG3_PCT_DIFFERENCE</td>\n",
       "      <td>0.005913</td>\n",
       "    </tr>\n",
       "    <tr>\n",
       "      <th>8</th>\n",
       "      <td>AST_DIFFERENCE</td>\n",
       "      <td>0.005717</td>\n",
       "    </tr>\n",
       "    <tr>\n",
       "      <th>9</th>\n",
       "      <td>REB_DIFFERENCE</td>\n",
       "      <td>0.004917</td>\n",
       "    </tr>\n",
       "  </tbody>\n",
       "</table>\n",
       "</div>"
      ],
      "text/plain": [
       "                      Feature  Importance\n",
       "0            W_PCT_DIFFERENCE    0.437092\n",
       "1  HOME_ROAD_W_PCT_DIFFERENCE    0.352991\n",
       "2              EFF_DIFFERENCE    0.089832\n",
       "3           STREAK_DIFFERENCE    0.044917\n",
       "4              PTS_DIFFERENCE    0.028015\n",
       "5           FG_PCT_DIFFERENCE    0.023284\n",
       "6           FT_PCT_DIFFERENCE    0.007323\n",
       "7          FG3_PCT_DIFFERENCE    0.005913\n",
       "8              AST_DIFFERENCE    0.005717\n",
       "9              REB_DIFFERENCE    0.004917"
      ]
     },
     "execution_count": 7,
     "metadata": {},
     "output_type": "execute_result"
    }
   ],
   "source": [
    "rfc_feature_importances_df = pd.DataFrame(rfc.feature_importances_, index = X_train.columns, columns = ['Importance']).sort_values('Importance', ascending = False).reset_index()\n",
    "rfc_feature_importances_df.columns = ['Feature', 'Importance']\n",
    "rfc_feature_importances_df"
   ]
  },
  {
   "cell_type": "code",
   "execution_count": 8,
   "id": "6646473c",
   "metadata": {},
   "outputs": [
    {
     "data": {
      "image/png": "[encoded data removed]",
      "text/plain": [
       "<Figure size 720x540 with 1 Axes>"
      ]
     },
     "metadata": {
      "needs_background": "light"
     },
     "output_type": "display_data"
    }
   ],
   "source": [
    "rfc_feature_importances_df.plot.barh(x='Feature', y='Importance')\n",
    "plt.title('Feature Importance Values for the Random Forest Classifier Model')\n",
    "plt.xlabel('Feature Importance')\n",
    "fig = plt.gcf()\n",
    "fig.set_size_inches(10,7.5)\n",
    "plt.show()"
   ]
  },
  {
   "cell_type": "markdown",
   "id": "2ea4ec4d",
   "metadata": {},
   "source": [
    "## Predict_Proba Values"
   ]
  },
  {
   "cell_type": "code",
   "execution_count": 9,
   "id": "268ca46b",
   "metadata": {},
   "outputs": [
    {
     "name": "stdout",
     "output_type": "stream",
     "text": [
      "[[0.55894139 0.44105861]\n",
      " [0.20840846 0.79159154]\n",
      " [0.33681707 0.66318293]\n",
      " ...\n",
      " [0.58143448 0.41856552]\n",
      " [0.34123643 0.65876357]\n",
      " [0.29417561 0.70582439]]\n"
     ]
    }
   ],
   "source": [
    "rfc_y_predict_proba = rfc.predict_proba(X_test)\n",
    "print(rfc_y_predict_proba)"
   ]
  },
  {
   "cell_type": "code",
   "execution_count": 10,
   "id": "b73efcdf",
   "metadata": {},
   "outputs": [
    {
     "name": "stdout",
     "output_type": "stream",
     "text": [
      "4436     0\n",
      "9973     1\n",
      "11229    1\n",
      "18152    0\n",
      "10282    0\n",
      "        ..\n",
      "21021    1\n",
      "7930     0\n",
      "15272    0\n",
      "4661     0\n",
      "2782     1\n",
      "Name: HOME_TEAM_WINS, Length: 6019, dtype: int64\n"
     ]
    }
   ],
   "source": [
    "print(y_test)"
   ]
  },
  {
   "cell_type": "code",
   "execution_count": 11,
   "id": "28886592",
   "metadata": {},
   "outputs": [
    {
     "name": "stdout",
     "output_type": "stream",
     "text": [
      "Number of False Positives: 1340\n",
      "Number of False Negatives: 728\n"
     ]
    }
   ],
   "source": [
    "false_positives_index_lst = []\n",
    "for i in range(len(rfc_y_predictions)):\n",
    "    if (rfc_y_predictions[i] != y_test.values[i]) and y_test.values[i] == 0:\n",
    "        false_positives_index_lst.append(i)\n",
    "\n",
    "predict_proba_values_false_positives_lst = []\n",
    "for i in false_positives_index_lst:\n",
    "    predict_proba_values_false_positives_lst.append(rfc_y_predict_proba[i][1])\n",
    "\n",
    "print('Number of False Positives:', len(predict_proba_values_false_positives_lst))\n",
    "\n",
    "false_negatives_index_lst = []\n",
    "for i in range(len(rfc_y_predictions)):\n",
    "    if (rfc_y_predictions[i] != y_test.values[i]) and y_test.values[i] == 1:\n",
    "        false_negatives_index_lst.append(i)\n",
    "\n",
    "predict_proba_values_false_negatives_lst = []\n",
    "for i in false_negatives_index_lst:\n",
    "    predict_proba_values_false_negatives_lst.append(rfc_y_predict_proba[i][1])\n",
    "\n",
    "print('Number of False Negatives:', len(predict_proba_values_false_negatives_lst))"
   ]
  },
  {
   "cell_type": "markdown",
   "id": "7cf763a6",
   "metadata": {},
   "source": [
    "### Summary Statistics for False Positives List"
   ]
  },
  {
   "cell_type": "code",
   "execution_count": 12,
   "id": "c941f1d5",
   "metadata": {},
   "outputs": [
    {
     "name": "stdout",
     "output_type": "stream",
     "text": [
      "Minimum Predict Proba Value for False Positives: 0.5000069465875986\n",
      "Q1 Predict Proba Value for False Positives: 0.5620088133979302\n",
      "Median Predict Proba Value for False Positives: 0.6366519306634152\n",
      "Q3 Predict Proba Value for False Positives: 0.7079779265134788\n",
      "Maximum Predict Proba Value for False Positives: 0.8264487470040155\n",
      "Mean Predict Proba Value for False Positives: 0.6389007788737133\n"
     ]
    }
   ],
   "source": [
    "min_predict_proba_false_positive = np.min(predict_proba_values_false_positives_lst)\n",
    "q1_predict_proba_false_positive = np.quantile(predict_proba_values_false_positives_lst, 0.25)\n",
    "median_predict_proba_false_positive = np.median(predict_proba_values_false_positives_lst)\n",
    "q3_predict_proba_false_positive = np.quantile(predict_proba_values_false_positives_lst, 0.75)\n",
    "max_predict_proba_false_positive = np.max(predict_proba_values_false_positives_lst)\n",
    "mean_predict_proba_false_positive = np.mean(predict_proba_values_false_positives_lst)\n",
    "print('Minimum Predict Proba Value for False Positives:', min_predict_proba_false_positive)\n",
    "print('Q1 Predict Proba Value for False Positives:', q1_predict_proba_false_positive)\n",
    "print('Median Predict Proba Value for False Positives:', median_predict_proba_false_positive)\n",
    "print('Q3 Predict Proba Value for False Positives:', q3_predict_proba_false_positive)\n",
    "print('Maximum Predict Proba Value for False Positives:', max_predict_proba_false_positive)\n",
    "print('Mean Predict Proba Value for False Positives:', mean_predict_proba_false_positive)"
   ]
  },
  {
   "cell_type": "markdown",
   "id": "af8e6ad4",
   "metadata": {},
   "source": [
    "### Summary Statistics for False Negatives List"
   ]
  },
  {
   "cell_type": "code",
   "execution_count": 13,
   "id": "644995e9",
   "metadata": {},
   "outputs": [
    {
     "name": "stdout",
     "output_type": "stream",
     "text": [
      "Minimum Predict Proba Value for False Negatives: 0.28346741904158185\n",
      "Q1 Predict Proba Value for False Negatives: 0.38868278300753534\n",
      "Median Predict Proba Value for False Negatives: 0.4327711549420571\n",
      "Q3 Predict Proba Value for False Negatives: 0.4627142390966648\n",
      "Maximum Predict Proba Value for False Negatives: 0.49922260456158574\n",
      "Mean Predict Proba Value for False Negatives: 0.42328127502306406\n"
     ]
    }
   ],
   "source": [
    "min_predict_proba_false_negative = np.min(predict_proba_values_false_negatives_lst)\n",
    "q1_predict_proba_false_negative = np.quantile(predict_proba_values_false_negatives_lst, 0.25)\n",
    "median_predict_proba_false_negative = np.median(predict_proba_values_false_negatives_lst)\n",
    "q3_predict_proba_false_negative = np.quantile(predict_proba_values_false_negatives_lst, 0.75)\n",
    "max_predict_proba_false_negative = np.max(predict_proba_values_false_negatives_lst)\n",
    "mean_predict_proba_false_negative = np.mean(predict_proba_values_false_negatives_lst)\n",
    "print('Minimum Predict Proba Value for False Negatives:', min_predict_proba_false_negative)\n",
    "print('Q1 Predict Proba Value for False Negatives:', q1_predict_proba_false_negative)\n",
    "print('Median Predict Proba Value for False Negatives:', median_predict_proba_false_negative)\n",
    "print('Q3 Predict Proba Value for False Negatives:', q3_predict_proba_false_negative)\n",
    "print('Maximum Predict Proba Value for False Negatives:', max_predict_proba_false_negative)\n",
    "print('Mean Predict Proba Value for False Negatives:', mean_predict_proba_false_negative)"
   ]
  },
  {
   "cell_type": "markdown",
   "id": "1a92ae3d",
   "metadata": {},
   "source": [
    "## Adjusting the threshold value for the Random Forest Classification Model"
   ]
  },
  {
   "cell_type": "markdown",
   "id": "89f81795",
   "metadata": {},
   "source": [
    "#### Setting the threshold to be the mean predict_proba value of the false positives list"
   ]
  },
  {
   "cell_type": "code",
   "execution_count": 14,
   "id": "58e8816b",
   "metadata": {},
   "outputs": [
    {
     "name": "stdout",
     "output_type": "stream",
     "text": [
      "Accuracy Score with threshold being 0.639: 0.6231932214653597\n"
     ]
    }
   ],
   "source": [
    "adjusted_rfc_y_predictions_lst = []\n",
    "for i in rfc_y_predict_proba[:,1]:\n",
    "    if i > round(mean_predict_proba_false_positive,3):\n",
    "        adjusted_rfc_y_predictions_lst.append(1)\n",
    "    else:\n",
    "        adjusted_rfc_y_predictions_lst.append(0)\n",
    "\n",
    "print('Accuracy Score with threshold being ' + str(round(mean_predict_proba_false_positive,3)) + ':', \n",
    "      accuracy_score(y_true=y_test, y_pred=adjusted_rfc_y_predictions_lst))"
   ]
  },
  {
   "cell_type": "markdown",
   "id": "4553ff70",
   "metadata": {},
   "source": [
    "#### Setting the threshold to be the median predict_proba value of the false positives list"
   ]
  },
  {
   "cell_type": "code",
   "execution_count": 15,
   "id": "700cd6b3",
   "metadata": {},
   "outputs": [
    {
     "name": "stdout",
     "output_type": "stream",
     "text": [
      "Accuracy Score with threshold being 0.637: 0.6240239242399069\n"
     ]
    }
   ],
   "source": [
    "adjusted_rfc_y_predictions_lst = []\n",
    "for i in rfc_y_predict_proba[:,1]:\n",
    "    if i > round(median_predict_proba_false_positive,3):\n",
    "        adjusted_rfc_y_predictions_lst.append(1)\n",
    "    else:\n",
    "        adjusted_rfc_y_predictions_lst.append(0)\n",
    "\n",
    "print('Accuracy Score with threshold being ' + str(round(median_predict_proba_false_positive,3)) + ':', \n",
    "      accuracy_score(y_true=y_test, y_pred=adjusted_rfc_y_predictions_lst))"
   ]
  },
  {
   "cell_type": "markdown",
   "id": "4ed3d9a1",
   "metadata": {},
   "source": [
    "#### Setting the threshold to be the Q1 predict_proba value of the false positives list"
   ]
  },
  {
   "cell_type": "code",
   "execution_count": 16,
   "id": "0f172246",
   "metadata": {},
   "outputs": [
    {
     "name": "stdout",
     "output_type": "stream",
     "text": [
      "Accuracy Score with threshold being 0.562: 0.6552583485628842\n"
     ]
    }
   ],
   "source": [
    "adjusted_rfc_y_predictions_lst = []\n",
    "for i in rfc_y_predict_proba[:,1]:\n",
    "    if i > round(q1_predict_proba_false_positive,3):\n",
    "        adjusted_rfc_y_predictions_lst.append(1)\n",
    "    else:\n",
    "        adjusted_rfc_y_predictions_lst.append(0)\n",
    "\n",
    "print('Accuracy Score with threshold being ' + str(round(q1_predict_proba_false_positive,3)) + ':', \n",
    "      accuracy_score(y_true=y_test, y_pred=adjusted_rfc_y_predictions_lst))"
   ]
  },
  {
   "cell_type": "code",
   "execution_count": 17,
   "id": "2720b295",
   "metadata": {},
   "outputs": [
    {
     "name": "stdout",
     "output_type": "stream",
     "text": [
      "Accuracy Score with threshold being 0.52: 0.6569197541119788\n"
     ]
    }
   ],
   "source": [
    "adjusted_rfc_y_predictions_lst = []\n",
    "for i in rfc_y_predict_proba[:,1]:\n",
    "    if i > 0.52:\n",
    "        adjusted_rfc_y_predictions_lst.append(1)\n",
    "    else:\n",
    "        adjusted_rfc_y_predictions_lst.append(0)\n",
    "\n",
    "print('Accuracy Score with threshold being ' + str(0.52) + ':', \n",
    "      accuracy_score(y_true=y_test, y_pred=adjusted_rfc_y_predictions_lst))"
   ]
  },
  {
   "cell_type": "code",
   "execution_count": 18,
   "id": "b08f1882",
   "metadata": {},
   "outputs": [
    {
     "name": "stdout",
     "output_type": "stream",
     "text": [
      "Accuracy Score with threshold being 0.51: 0.6580827379963449\n"
     ]
    }
   ],
   "source": [
    "adjusted_rfc_y_predictions_lst = []\n",
    "for i in rfc_y_predict_proba[:,1]:\n",
    "    if i > 0.51:\n",
    "        adjusted_rfc_y_predictions_lst.append(1)\n",
    "    else:\n",
    "        adjusted_rfc_y_predictions_lst.append(0)\n",
    "\n",
    "print('Accuracy Score with threshold being ' + str(0.51) + ':', \n",
    "      accuracy_score(y_true=y_test, y_pred=adjusted_rfc_y_predictions_lst))"
   ]
  },
  {
   "cell_type": "code",
   "execution_count": 19,
   "id": "de57051c",
   "metadata": {},
   "outputs": [
    {
     "name": "stdout",
     "output_type": "stream",
     "text": [
      "Accuracy Score with threshold being 0.505: 0.6584150191061638\n"
     ]
    }
   ],
   "source": [
    "adjusted_rfc_y_predictions_lst = []\n",
    "for i in rfc_y_predict_proba[:,1]:\n",
    "    if i > 0.505:\n",
    "        adjusted_rfc_y_predictions_lst.append(1)\n",
    "    else:\n",
    "        adjusted_rfc_y_predictions_lst.append(0)\n",
    "\n",
    "print('Accuracy Score with threshold being ' + str(0.505) + ':', \n",
    "      accuracy_score(y_true=y_test, y_pred=adjusted_rfc_y_predictions_lst))"
   ]
  },
  {
   "cell_type": "code",
   "execution_count": 20,
   "id": "4dbab55f",
   "metadata": {},
   "outputs": [
    {
     "name": "stdout",
     "output_type": "stream",
     "text": [
      "Accuracy Score with threshold being 0.50499: 0.6584150191061638\n"
     ]
    }
   ],
   "source": [
    "adjusted_rfc_y_predictions_lst = []\n",
    "for i in rfc_y_predict_proba[:,1]:\n",
    "    if i > 0.50499:\n",
    "        adjusted_rfc_y_predictions_lst.append(1)\n",
    "    else:\n",
    "        adjusted_rfc_y_predictions_lst.append(0)\n",
    "\n",
    "print('Accuracy Score with threshold being ' + str(0.50499) + ':', \n",
    "      accuracy_score(y_true=y_test, y_pred=adjusted_rfc_y_predictions_lst))"
   ]
  },
  {
   "cell_type": "markdown",
   "id": "6b33a255",
   "metadata": {},
   "source": [
    "## Applying Feature Selection to the model\n",
    "\n",
    "### From above, the features with the top 3 highest feature importance values are `W_PCT_DIFFERENCE`, `HOME_ROAD_W_PCT_DIFFERENCE`, and `EFF_DIFFERENCE`\n",
    "\n",
    "#### Will apply feature selection using only these 3 features"
   ]
  },
  {
   "cell_type": "code",
   "execution_count": 21,
   "id": "fa7a2135",
   "metadata": {},
   "outputs": [
    {
     "name": "stdout",
     "output_type": "stream",
     "text": [
      "Random Forest with Feature Selection Classification Report:\n",
      "              precision    recall  f1-score   support\n",
      "\n",
      "           0       0.62      0.46      0.53      2481\n",
      "           1       0.68      0.80      0.73      3538\n",
      "\n",
      "    accuracy                           0.66      6019\n",
      "   macro avg       0.65      0.63      0.63      6019\n",
      "weighted avg       0.65      0.66      0.65      6019\n",
      "\n",
      "\n",
      "Random Forest with Feature Selection Confusion Matrix:\n",
      "[[1144 1337]\n",
      " [ 708 2830]]\n",
      "\n",
      "Random Forest with Feature Selection Accuracy Score:\n",
      "0.6602425652101678\n"
     ]
    }
   ],
   "source": [
    "feature_selected_columns = ['W_PCT_DIFFERENCE', 'HOME_ROAD_W_PCT_DIFFERENCE', 'EFF_DIFFERENCE']\n",
    "target_column = 'HOME_TEAM_WINS'\n",
    "X_feature_selected = df[feature_selected_columns]\n",
    "y = df[target_column]\n",
    "X_train_feature_selected, X_test_feature_selected, y_train, y_test = train_test_split(X_feature_selected,y,test_size=0.25, \n",
    "                                                                                      random_state=0)\n",
    "rfc_feature_selected = RandomForestClassifier(criterion='entropy', max_depth=4, n_estimators=100, random_state=0)\n",
    "rfc_feature_selected.fit(X_train_feature_selected, y_train)\n",
    "rfc_feature_selected_y_predictions = rfc_feature_selected.predict(X_test_feature_selected)\n",
    "print('Random Forest with Feature Selection Classification Report:')\n",
    "print(classification_report(y_true=y_test, y_pred=rfc_feature_selected_y_predictions))\n",
    "print()\n",
    "print('Random Forest with Feature Selection Confusion Matrix:')\n",
    "print(confusion_matrix(y_true=y_test, y_pred=rfc_feature_selected_y_predictions))\n",
    "print()\n",
    "print('Random Forest with Feature Selection Accuracy Score:')\n",
    "print(accuracy_score(y_true=y_test, y_pred=rfc_feature_selected_y_predictions))"
   ]
  },
  {
   "cell_type": "markdown",
   "id": "8fc38519",
   "metadata": {},
   "source": [
    "### From above, the features with the top 4 highest feature importance values are `W_PCT_DIFFERENCE`, `HOME_ROAD_W_PCT_DIFFERENCE`, `EFF_DIFFERENCE`, and `STREAK_DIFFERENCE`\n",
    "\n",
    "#### Will apply feature selection using only these 4 features"
   ]
  },
  {
   "cell_type": "code",
   "execution_count": 22,
   "id": "94682953",
   "metadata": {},
   "outputs": [
    {
     "name": "stdout",
     "output_type": "stream",
     "text": [
      "Random Forest with Feature Selection Classification Report:\n",
      "              precision    recall  f1-score   support\n",
      "\n",
      "           0       0.61      0.48      0.54      2481\n",
      "           1       0.68      0.79      0.73      3538\n",
      "\n",
      "    accuracy                           0.66      6019\n",
      "   macro avg       0.65      0.63      0.64      6019\n",
      "weighted avg       0.65      0.66      0.65      6019\n",
      "\n",
      "\n",
      "Random Forest with Feature Selection Confusion Matrix:\n",
      "[[1197 1284]\n",
      " [ 759 2779]]\n",
      "\n",
      "Random Forest with Feature Selection Accuracy Score:\n",
      "0.6605748463199868\n"
     ]
    }
   ],
   "source": [
    "feature_selected_columns = ['W_PCT_DIFFERENCE', 'HOME_ROAD_W_PCT_DIFFERENCE', 'EFF_DIFFERENCE', 'STREAK_DIFFERENCE']\n",
    "target_column = 'HOME_TEAM_WINS'\n",
    "X_feature_selected = df[feature_selected_columns]\n",
    "y = df[target_column]\n",
    "X_train_feature_selected, X_test_feature_selected, y_train, y_test = train_test_split(X_feature_selected,y,test_size=0.25, \n",
    "                                                                                      random_state=0)\n",
    "rfc_feature_selected = RandomForestClassifier(criterion='entropy', max_depth=4, n_estimators=100, random_state=0)\n",
    "rfc_feature_selected.fit(X_train_feature_selected, y_train)\n",
    "rfc_feature_selected_y_predictions = rfc_feature_selected.predict(X_test_feature_selected)\n",
    "print('Random Forest with Feature Selection Classification Report:')\n",
    "print(classification_report(y_true=y_test, y_pred=rfc_feature_selected_y_predictions))\n",
    "print()\n",
    "print('Random Forest with Feature Selection Confusion Matrix:')\n",
    "print(confusion_matrix(y_true=y_test, y_pred=rfc_feature_selected_y_predictions))\n",
    "print()\n",
    "print('Random Forest with Feature Selection Accuracy Score:')\n",
    "print(accuracy_score(y_true=y_test, y_pred=rfc_feature_selected_y_predictions))"
   ]
  },
  {
   "cell_type": "markdown",
   "id": "1c9137f7",
   "metadata": {},
   "source": [
    "### From above, the features with the top 5 highest feature importance values are `W_PCT_DIFFERENCE`, `HOME_ROAD_W_PCT_DIFFERENCE`, `EFF_DIFFERENCE`, `STREAK_DIFFERENCE`, and `PTS_DIFFERENCE`\n",
    "\n",
    "#### Will apply feature selection using only these 5 features"
   ]
  },
  {
   "cell_type": "code",
   "execution_count": 23,
   "id": "246a93d2",
   "metadata": {},
   "outputs": [
    {
     "name": "stdout",
     "output_type": "stream",
     "text": [
      "Random Forest with Feature Selection Classification Report:\n",
      "              precision    recall  f1-score   support\n",
      "\n",
      "           0       0.61      0.48      0.54      2481\n",
      "           1       0.68      0.79      0.73      3538\n",
      "\n",
      "    accuracy                           0.66      6019\n",
      "   macro avg       0.65      0.63      0.63      6019\n",
      "weighted avg       0.65      0.66      0.65      6019\n",
      "\n",
      "\n",
      "Random Forest with Feature Selection Confusion Matrix:\n",
      "[[1185 1296]\n",
      " [ 753 2785]]\n",
      "\n",
      "Random Forest with Feature Selection Accuracy Score:\n",
      "0.65957800299053\n"
     ]
    }
   ],
   "source": [
    "feature_selected_columns = ['W_PCT_DIFFERENCE', 'HOME_ROAD_W_PCT_DIFFERENCE', 'EFF_DIFFERENCE', 'STREAK_DIFFERENCE', \n",
    "                            'PTS_DIFFERENCE']\n",
    "target_column = 'HOME_TEAM_WINS'\n",
    "X_feature_selected = df[feature_selected_columns]\n",
    "y = df[target_column]\n",
    "X_train_feature_selected, X_test_feature_selected, y_train, y_test = train_test_split(X_feature_selected,y,test_size=0.25, \n",
    "                                                                                      random_state=0)\n",
    "rfc_feature_selected = RandomForestClassifier(criterion='entropy', max_depth=4, n_estimators=100, random_state=0)\n",
    "rfc_feature_selected.fit(X_train_feature_selected, y_train)\n",
    "rfc_feature_selected_y_predictions = rfc_feature_selected.predict(X_test_feature_selected)\n",
    "print('Random Forest with Feature Selection Classification Report:')\n",
    "print(classification_report(y_true=y_test, y_pred=rfc_feature_selected_y_predictions))\n",
    "print()\n",
    "print('Random Forest with Feature Selection Confusion Matrix:')\n",
    "print(confusion_matrix(y_true=y_test, y_pred=rfc_feature_selected_y_predictions))\n",
    "print()\n",
    "print('Random Forest with Feature Selection Accuracy Score:')\n",
    "print(accuracy_score(y_true=y_test, y_pred=rfc_feature_selected_y_predictions))"
   ]
  },
  {
   "cell_type": "markdown",
   "id": "30e51087",
   "metadata": {},
   "source": [
    "### From above, the features with the top 6 highest feature importance values are `W_PCT_DIFFERENCE`, `HOME_ROAD_W_PCT_DIFFERENCE`, `EFF_DIFFERENCE`, `STREAK_DIFFERENCE`, `PTS_DIFFERENCE`, and `FG_PCT_DIFFERENCE`\n",
    "\n",
    "#### Will apply feature selection using only these 6 features"
   ]
  },
  {
   "cell_type": "code",
   "execution_count": 24,
   "id": "e2f8b7c7",
   "metadata": {},
   "outputs": [
    {
     "name": "stdout",
     "output_type": "stream",
     "text": [
      "Random Forest with Feature Selection Classification Report:\n",
      "              precision    recall  f1-score   support\n",
      "\n",
      "           0       0.61      0.46      0.53      2481\n",
      "           1       0.68      0.80      0.73      3538\n",
      "\n",
      "    accuracy                           0.66      6019\n",
      "   macro avg       0.65      0.63      0.63      6019\n",
      "weighted avg       0.65      0.66      0.65      6019\n",
      "\n",
      "\n",
      "Random Forest with Feature Selection Confusion Matrix:\n",
      "[[1142 1339]\n",
      " [ 716 2822]]\n",
      "\n",
      "Random Forest with Feature Selection Accuracy Score:\n",
      "0.6585811596610732\n"
     ]
    }
   ],
   "source": [
    "feature_selected_columns = ['W_PCT_DIFFERENCE', 'HOME_ROAD_W_PCT_DIFFERENCE', 'EFF_DIFFERENCE', 'STREAK_DIFFERENCE', \n",
    "                            'PTS_DIFFERENCE', 'FG_PCT_DIFFERENCE']\n",
    "target_column = 'HOME_TEAM_WINS'\n",
    "X_feature_selected = df[feature_selected_columns]\n",
    "y = df[target_column]\n",
    "X_train_feature_selected, X_test_feature_selected, y_train, y_test = train_test_split(X_feature_selected,y,test_size=0.25, \n",
    "                                                                                      random_state=0)\n",
    "rfc_feature_selected = RandomForestClassifier(criterion='entropy', max_depth=4, n_estimators=100, random_state=0)\n",
    "rfc_feature_selected.fit(X_train_feature_selected, y_train)\n",
    "rfc_feature_selected_y_predictions = rfc_feature_selected.predict(X_test_feature_selected)\n",
    "print('Random Forest with Feature Selection Classification Report:')\n",
    "print(classification_report(y_true=y_test, y_pred=rfc_feature_selected_y_predictions))\n",
    "print()\n",
    "print('Random Forest with Feature Selection Confusion Matrix:')\n",
    "print(confusion_matrix(y_true=y_test, y_pred=rfc_feature_selected_y_predictions))\n",
    "print()\n",
    "print('Random Forest with Feature Selection Accuracy Score:')\n",
    "print(accuracy_score(y_true=y_test, y_pred=rfc_feature_selected_y_predictions))"
   ]
  },
  {
   "cell_type": "markdown",
   "id": "7b3b9be7",
   "metadata": {},
   "source": [
    "## From above, the model that produces the highest accuracy score is the model that has these 4 features: `W_PCT_DIFFERENCE`, `HOME_ROAD_W_PCT_DIFFERENCE`, `EFF_DIFFERENCE`, and `STREAK_DIFFERENCE`"
   ]
  },
  {
   "cell_type": "code",
   "execution_count": 25,
   "id": "03fe3182",
   "metadata": {},
   "outputs": [
    {
     "name": "stdout",
     "output_type": "stream",
     "text": [
      "Random Forest with Feature Selection Classification Report:\n",
      "              precision    recall  f1-score   support\n",
      "\n",
      "           0       0.61      0.48      0.54      2481\n",
      "           1       0.68      0.79      0.73      3538\n",
      "\n",
      "    accuracy                           0.66      6019\n",
      "   macro avg       0.65      0.63      0.64      6019\n",
      "weighted avg       0.65      0.66      0.65      6019\n",
      "\n",
      "\n",
      "Random Forest with Feature Selection Confusion Matrix:\n",
      "[[1197 1284]\n",
      " [ 759 2779]]\n",
      "\n",
      "Random Forest with Feature Selection Accuracy Score:\n",
      "0.6605748463199868\n"
     ]
    }
   ],
   "source": [
    "feature_selected_columns = ['W_PCT_DIFFERENCE', 'HOME_ROAD_W_PCT_DIFFERENCE', 'EFF_DIFFERENCE', 'STREAK_DIFFERENCE']\n",
    "target_column = 'HOME_TEAM_WINS'\n",
    "X_feature_selected = df[feature_selected_columns]\n",
    "y = df[target_column]\n",
    "X_train_feature_selected, X_test_feature_selected, y_train, y_test = train_test_split(X_feature_selected,y,test_size=0.25, \n",
    "                                                                                      random_state=0)\n",
    "rfc_feature_selected = RandomForestClassifier(criterion='entropy', max_depth=4, n_estimators=100, random_state=0)\n",
    "rfc_feature_selected.fit(X_train_feature_selected, y_train)\n",
    "rfc_feature_selected_y_predictions = rfc_feature_selected.predict(X_test_feature_selected)\n",
    "print('Random Forest with Feature Selection Classification Report:')\n",
    "print(classification_report(y_true=y_test, y_pred=rfc_feature_selected_y_predictions))\n",
    "print()\n",
    "print('Random Forest with Feature Selection Confusion Matrix:')\n",
    "print(confusion_matrix(y_true=y_test, y_pred=rfc_feature_selected_y_predictions))\n",
    "print()\n",
    "print('Random Forest with Feature Selection Accuracy Score:')\n",
    "print(accuracy_score(y_true=y_test, y_pred=rfc_feature_selected_y_predictions))"
   ]
  },
  {
   "cell_type": "markdown",
   "id": "54de3f0a",
   "metadata": {},
   "source": [
    "# Applying Principal Component  Analysis"
   ]
  },
  {
   "cell_type": "code",
   "execution_count": 26,
   "id": "97914a4d",
   "metadata": {},
   "outputs": [],
   "source": [
    "from sklearn.decomposition import PCA"
   ]
  },
  {
   "cell_type": "code",
   "execution_count": 27,
   "id": "ccdb3268",
   "metadata": {},
   "outputs": [],
   "source": [
    "pca = PCA(n_components = 0.95)\n",
    "X_reduced_train = pca.fit_transform(X_train)\n",
    "X_reduced_test = pca.transform(X_test)"
   ]
  },
  {
   "cell_type": "code",
   "execution_count": 28,
   "id": "f3de5622",
   "metadata": {},
   "outputs": [
    {
     "data": {
      "text/plain": [
       "4"
      ]
     },
     "execution_count": 28,
     "metadata": {},
     "output_type": "execute_result"
    }
   ],
   "source": [
    "pca.n_components_"
   ]
  },
  {
   "cell_type": "code",
   "execution_count": 29,
   "id": "39d233c8",
   "metadata": {},
   "outputs": [
    {
     "name": "stdout",
     "output_type": "stream",
     "text": [
      "Random Forest Classification Report:\n",
      "              precision    recall  f1-score   support\n",
      "\n",
      "           0       0.56      0.17      0.26      2481\n",
      "           1       0.61      0.91      0.73      3538\n",
      "\n",
      "    accuracy                           0.60      6019\n",
      "   macro avg       0.59      0.54      0.50      6019\n",
      "weighted avg       0.59      0.60      0.54      6019\n",
      "\n",
      "\n",
      "Random Forest Confusion Matrix:\n",
      "[[ 426 2055]\n",
      " [ 328 3210]]\n",
      "\n",
      "Random Forest Accuracy Score:\n",
      "0.6040870576507725\n"
     ]
    }
   ],
   "source": [
    "rfc = RandomForestClassifier(criterion='entropy', max_depth=4, n_estimators=100, random_state=0)\n",
    "rfc.fit(X_reduced_train, y_train)\n",
    "rfc_y_predictions = rfc.predict(X_reduced_test)\n",
    "print('Random Forest Classification Report:')\n",
    "print(classification_report(y_true=y_test, y_pred=rfc_y_predictions))\n",
    "print()\n",
    "print('Random Forest Confusion Matrix:')\n",
    "print(confusion_matrix(y_true=y_test, y_pred=rfc_y_predictions))\n",
    "print()\n",
    "print('Random Forest Accuracy Score:')\n",
    "print(accuracy_score(y_true=y_test, y_pred=rfc_y_predictions))"
   ]
  },
  {
   "cell_type": "markdown",
   "id": "7afc9e1a",
   "metadata": {},
   "source": [
    "### From above, applying PCA decreased the accuracy score by a lot. Thus, PCA won't be applied"
   ]
  },
  {
   "cell_type": "markdown",
   "id": "1d5fe96a",
   "metadata": {},
   "source": [
    "## Adjusting predict_proba values for the Random Forest Classifier Model with the 4 features"
   ]
  },
  {
   "cell_type": "code",
   "execution_count": 30,
   "id": "d41bd06e",
   "metadata": {},
   "outputs": [
    {
     "name": "stdout",
     "output_type": "stream",
     "text": [
      "Random Forest with Feature Selection Classification Report:\n",
      "              precision    recall  f1-score   support\n",
      "\n",
      "           0       0.61      0.48      0.54      2481\n",
      "           1       0.68      0.79      0.73      3538\n",
      "\n",
      "    accuracy                           0.66      6019\n",
      "   macro avg       0.65      0.63      0.64      6019\n",
      "weighted avg       0.65      0.66      0.65      6019\n",
      "\n",
      "\n",
      "Random Forest with Feature Selection Confusion Matrix:\n",
      "[[1197 1284]\n",
      " [ 759 2779]]\n",
      "\n",
      "Random Forest with Feature Selection Accuracy Score:\n",
      "0.6605748463199868\n"
     ]
    }
   ],
   "source": [
    "feature_selected_columns = ['W_PCT_DIFFERENCE', 'HOME_ROAD_W_PCT_DIFFERENCE', 'EFF_DIFFERENCE', 'STREAK_DIFFERENCE']\n",
    "target_column = 'HOME_TEAM_WINS'\n",
    "X_feature_selected = df[feature_selected_columns]\n",
    "y = df[target_column]\n",
    "X_train_feature_selected, X_test_feature_selected, y_train, y_test = train_test_split(X_feature_selected,y,test_size=0.25, \n",
    "                                                                                      random_state=0)\n",
    "rfc_feature_selected = RandomForestClassifier(criterion='entropy', max_depth=4, n_estimators=100, random_state=0)\n",
    "rfc_feature_selected.fit(X_train_feature_selected, y_train)\n",
    "rfc_feature_selected_y_predictions = rfc_feature_selected.predict(X_test_feature_selected)\n",
    "print('Random Forest with Feature Selection Classification Report:')\n",
    "print(classification_report(y_true=y_test, y_pred=rfc_feature_selected_y_predictions))\n",
    "print()\n",
    "print('Random Forest with Feature Selection Confusion Matrix:')\n",
    "print(confusion_matrix(y_true=y_test, y_pred=rfc_feature_selected_y_predictions))\n",
    "print()\n",
    "print('Random Forest with Feature Selection Accuracy Score:')\n",
    "print(accuracy_score(y_true=y_test, y_pred=rfc_feature_selected_y_predictions))"
   ]
  },
  {
   "cell_type": "markdown",
   "id": "6743ca3e",
   "metadata": {},
   "source": [
    "#### From above, there are 1284 False Positives and 759 False Negatives\n",
    "#### Thus, the precision value is 0.68, the recall value is 0.79, the f1-score value is 0.73, and the overall accuracy value is 0.661 when the threshold for the model is set to 0.5"
   ]
  },
  {
   "cell_type": "code",
   "execution_count": 31,
   "id": "95663d62",
   "metadata": {},
   "outputs": [
    {
     "name": "stdout",
     "output_type": "stream",
     "text": [
      "Number of False Positives: 1284\n",
      "Number of False Negatives: 759\n"
     ]
    }
   ],
   "source": [
    "rfc_feature_selected_y_predict_proba = rfc_feature_selected.predict_proba(X_test_feature_selected)\n",
    "\n",
    "false_positives_index_lst = []\n",
    "for i in range(len(rfc_feature_selected_y_predictions)):\n",
    "    if (rfc_feature_selected_y_predictions[i] != y_test.values[i]) and y_test.values[i] == 0:\n",
    "        false_positives_index_lst.append(i)\n",
    "\n",
    "predict_proba_values_false_positives_lst = []\n",
    "for i in false_positives_index_lst:\n",
    "    predict_proba_values_false_positives_lst.append(rfc_feature_selected_y_predict_proba[i][1])\n",
    "\n",
    "print('Number of False Positives:', len(predict_proba_values_false_positives_lst))\n",
    "\n",
    "false_negatives_index_lst = []\n",
    "for i in range(len(rfc_feature_selected_y_predictions)):\n",
    "    if (rfc_feature_selected_y_predictions[i] != y_test.values[i]) and y_test.values[i] == 1:\n",
    "        false_negatives_index_lst.append(i)\n",
    "\n",
    "predict_proba_values_false_negatives_lst = []\n",
    "for i in false_negatives_index_lst:\n",
    "    predict_proba_values_false_negatives_lst.append(rfc_feature_selected_y_predict_proba[i][1])\n",
    "\n",
    "print('Number of False Negatives:', len(predict_proba_values_false_negatives_lst))"
   ]
  },
  {
   "cell_type": "markdown",
   "id": "510e5808",
   "metadata": {},
   "source": [
    "### Summary Statistics for False Positives List"
   ]
  },
  {
   "cell_type": "code",
   "execution_count": 32,
   "id": "8a526b39",
   "metadata": {},
   "outputs": [
    {
     "name": "stdout",
     "output_type": "stream",
     "text": [
      "Minimum Predict Proba Value for False Positives: 0.5000839732298465\n",
      "Q1 Predict Proba Value for False Positives: 0.5757950304890536\n",
      "Median Predict Proba Value for False Positives: 0.6424561591522847\n",
      "Q3 Predict Proba Value for False Positives: 0.7167115683329304\n",
      "Maximum Predict Proba Value for False Positives: 0.8454531158349051\n",
      "Mean Predict Proba Value for False Positives: 0.6502533318587181\n"
     ]
    }
   ],
   "source": [
    "min_predict_proba_false_positive = np.min(predict_proba_values_false_positives_lst)\n",
    "q1_predict_proba_false_positive = np.quantile(predict_proba_values_false_positives_lst, 0.25)\n",
    "median_predict_proba_false_positive = np.median(predict_proba_values_false_positives_lst)\n",
    "q3_predict_proba_false_positive = np.quantile(predict_proba_values_false_positives_lst, 0.75)\n",
    "max_predict_proba_false_positive = np.max(predict_proba_values_false_positives_lst)\n",
    "mean_predict_proba_false_positive = np.mean(predict_proba_values_false_positives_lst)\n",
    "print('Minimum Predict Proba Value for False Positives:', min_predict_proba_false_positive)\n",
    "print('Q1 Predict Proba Value for False Positives:', q1_predict_proba_false_positive)\n",
    "print('Median Predict Proba Value for False Positives:', median_predict_proba_false_positive)\n",
    "print('Q3 Predict Proba Value for False Positives:', q3_predict_proba_false_positive)\n",
    "print('Maximum Predict Proba Value for False Positives:', max_predict_proba_false_positive)\n",
    "print('Mean Predict Proba Value for False Positives:', mean_predict_proba_false_positive)"
   ]
  },
  {
   "cell_type": "markdown",
   "id": "057f477e",
   "metadata": {},
   "source": [
    "### Summary Statistics for False Negatives List"
   ]
  },
  {
   "cell_type": "code",
   "execution_count": 33,
   "id": "fc478726",
   "metadata": {},
   "outputs": [
    {
     "name": "stdout",
     "output_type": "stream",
     "text": [
      "Minimum Predict Proba Value for False Negatives: 0.22827538638568942\n",
      "Q1 Predict Proba Value for False Negatives: 0.3745581896670618\n",
      "Median Predict Proba Value for False Negatives: 0.4203193931001116\n",
      "Q3 Predict Proba Value for False Negatives: 0.4510050898160384\n",
      "Maximum Predict Proba Value for False Negatives: 0.4996439842262882\n",
      "Mean Predict Proba Value for False Negatives: 0.4099080873430791\n"
     ]
    }
   ],
   "source": [
    "min_predict_proba_false_negative = np.min(predict_proba_values_false_negatives_lst)\n",
    "q1_predict_proba_false_negative = np.quantile(predict_proba_values_false_negatives_lst, 0.25)\n",
    "median_predict_proba_false_negative = np.median(predict_proba_values_false_negatives_lst)\n",
    "q3_predict_proba_false_negative = np.quantile(predict_proba_values_false_negatives_lst, 0.75)\n",
    "max_predict_proba_false_negative = np.max(predict_proba_values_false_negatives_lst)\n",
    "mean_predict_proba_false_negative = np.mean(predict_proba_values_false_negatives_lst)\n",
    "print('Minimum Predict Proba Value for False Negatives:', min_predict_proba_false_negative)\n",
    "print('Q1 Predict Proba Value for False Negatives:', q1_predict_proba_false_negative)\n",
    "print('Median Predict Proba Value for False Negatives:', median_predict_proba_false_negative)\n",
    "print('Q3 Predict Proba Value for False Negatives:', q3_predict_proba_false_negative)\n",
    "print('Maximum Predict Proba Value for False Negatives:', max_predict_proba_false_negative)\n",
    "print('Mean Predict Proba Value for False Negatives:', mean_predict_proba_false_negative)"
   ]
  },
  {
   "cell_type": "markdown",
   "id": "0b2f33ed",
   "metadata": {},
   "source": [
    "## Adjusting the threshold value for the Random Forest Classification Model with the 4 features of `W_PCT_DIFFERENCE`, `HOME_ROAD_W_PCT_DIFFERENCE`, `EFF_DIFFERENCE`, and `STREAK_DIFFERENCE`"
   ]
  },
  {
   "cell_type": "markdown",
   "id": "42da9eb8",
   "metadata": {},
   "source": [
    "#### Setting the threshold to be the mean predict_proba value of the false positives list"
   ]
  },
  {
   "cell_type": "code",
   "execution_count": 34,
   "id": "0e92d9bd",
   "metadata": {},
   "outputs": [
    {
     "name": "stdout",
     "output_type": "stream",
     "text": [
      "Accuracy Score with threshold being 0.65: 0.6182090048180761\n"
     ]
    }
   ],
   "source": [
    "adjusted_rfc_y_predictions_lst = []\n",
    "for i in rfc_feature_selected_y_predict_proba[:,1]:\n",
    "    if i > round(mean_predict_proba_false_positive,3):\n",
    "        adjusted_rfc_y_predictions_lst.append(1)\n",
    "    else:\n",
    "        adjusted_rfc_y_predictions_lst.append(0)\n",
    "\n",
    "print('Accuracy Score with threshold being ' + str(round(mean_predict_proba_false_positive,3)) + ':', \n",
    "      accuracy_score(y_true=y_test, y_pred=adjusted_rfc_y_predictions_lst))"
   ]
  },
  {
   "cell_type": "markdown",
   "id": "eca1fe2c",
   "metadata": {},
   "source": [
    "#### Setting the threshold to be the median predict_proba value of the false positives list"
   ]
  },
  {
   "cell_type": "code",
   "execution_count": 35,
   "id": "4cc1877e",
   "metadata": {},
   "outputs": [
    {
     "name": "stdout",
     "output_type": "stream",
     "text": [
      "Accuracy Score with threshold being 0.642: 0.6250207675693636\n"
     ]
    }
   ],
   "source": [
    "adjusted_rfc_y_predictions_lst = []\n",
    "for i in rfc_feature_selected_y_predict_proba[:,1]:\n",
    "    if i > round(median_predict_proba_false_positive,3):\n",
    "        adjusted_rfc_y_predictions_lst.append(1)\n",
    "    else:\n",
    "        adjusted_rfc_y_predictions_lst.append(0)\n",
    "\n",
    "print('Accuracy Score with threshold being ' + str(round(median_predict_proba_false_positive,3)) + ':', \n",
    "      accuracy_score(y_true=y_test, y_pred=adjusted_rfc_y_predictions_lst))"
   ]
  },
  {
   "cell_type": "markdown",
   "id": "c93e47b4",
   "metadata": {},
   "source": [
    "#### Setting the threshold to be the Q1 predict_proba value of the false positives list"
   ]
  },
  {
   "cell_type": "code",
   "execution_count": 36,
   "id": "6a460240",
   "metadata": {},
   "outputs": [
    {
     "name": "stdout",
     "output_type": "stream",
     "text": [
      "Accuracy Score with threshold being 0.576: 0.6562551918923409\n"
     ]
    }
   ],
   "source": [
    "adjusted_rfc_y_predictions_lst = []\n",
    "for i in rfc_feature_selected_y_predict_proba[:,1]:\n",
    "    if i > round(q1_predict_proba_false_positive,3):\n",
    "        adjusted_rfc_y_predictions_lst.append(1)\n",
    "    else:\n",
    "        adjusted_rfc_y_predictions_lst.append(0)\n",
    "\n",
    "print('Accuracy Score with threshold being ' + str(round(q1_predict_proba_false_positive,3)) + ':', \n",
    "      accuracy_score(y_true=y_test, y_pred=adjusted_rfc_y_predictions_lst))"
   ]
  },
  {
   "cell_type": "code",
   "execution_count": 37,
   "id": "d2ba0c0b",
   "metadata": {},
   "outputs": [
    {
     "name": "stdout",
     "output_type": "stream",
     "text": [
      "Accuracy Score with threshold being 0.52: 0.6599102841003489\n"
     ]
    }
   ],
   "source": [
    "adjusted_rfc_y_predictions_lst = []\n",
    "for i in rfc_feature_selected_y_predict_proba[:,1]:\n",
    "    if i > 0.52:\n",
    "        adjusted_rfc_y_predictions_lst.append(1)\n",
    "    else:\n",
    "        adjusted_rfc_y_predictions_lst.append(0)\n",
    "\n",
    "print('Accuracy Score with threshold being ' + str(0.52) + ':', \n",
    "      accuracy_score(y_true=y_test, y_pred=adjusted_rfc_y_predictions_lst))"
   ]
  },
  {
   "cell_type": "code",
   "execution_count": 38,
   "id": "88726fd7",
   "metadata": {},
   "outputs": [
    {
     "name": "stdout",
     "output_type": "stream",
     "text": [
      "Accuracy Score with threshold being 0.51: 0.6599102841003489\n"
     ]
    }
   ],
   "source": [
    "adjusted_rfc_y_predictions_lst = []\n",
    "for i in rfc_feature_selected_y_predict_proba[:,1]:\n",
    "    if i > 0.51:\n",
    "        adjusted_rfc_y_predictions_lst.append(1)\n",
    "    else:\n",
    "        adjusted_rfc_y_predictions_lst.append(0)\n",
    "\n",
    "print('Accuracy Score with threshold being ' + str(0.51) + ':', \n",
    "      accuracy_score(y_true=y_test, y_pred=adjusted_rfc_y_predictions_lst))"
   ]
  },
  {
   "cell_type": "code",
   "execution_count": 39,
   "id": "be6917cd",
   "metadata": {},
   "outputs": [
    {
     "name": "stdout",
     "output_type": "stream",
     "text": [
      "Accuracy Score with threshold being 0.505: 0.661405549094534\n"
     ]
    }
   ],
   "source": [
    "adjusted_rfc_y_predictions_lst = []\n",
    "for i in rfc_feature_selected_y_predict_proba[:,1]:\n",
    "    if i > 0.505:\n",
    "        adjusted_rfc_y_predictions_lst.append(1)\n",
    "    else:\n",
    "        adjusted_rfc_y_predictions_lst.append(0)\n",
    "\n",
    "print('Accuracy Score with threshold being ' + str(0.505) + ':', \n",
    "      accuracy_score(y_true=y_test, y_pred=adjusted_rfc_y_predictions_lst))"
   ]
  },
  {
   "cell_type": "code",
   "execution_count": 40,
   "id": "da459110",
   "metadata": {},
   "outputs": [
    {
     "name": "stdout",
     "output_type": "stream",
     "text": [
      "Accuracy Score with threshold being 0.50499: 0.6615716896494435\n"
     ]
    }
   ],
   "source": [
    "adjusted_rfc_y_predictions_lst = []\n",
    "for i in rfc_feature_selected_y_predict_proba[:,1]:\n",
    "    if i > 0.50499:\n",
    "        adjusted_rfc_y_predictions_lst.append(1)\n",
    "    else:\n",
    "        adjusted_rfc_y_predictions_lst.append(0)\n",
    "\n",
    "print('Accuracy Score with threshold being ' + str(0.50499) + ':', \n",
    "      accuracy_score(y_true=y_test, y_pred=adjusted_rfc_y_predictions_lst))"
   ]
  },
  {
   "cell_type": "markdown",
   "id": "65d7e08f",
   "metadata": {},
   "source": [
    "# From above, the model that will be used is the Random Forest Classification Model with the features being `W_PCT_DIFFERENCE`, `HOME_ROAD_W_PCT_DIFFERENCE`, `EFF_DIFFERENCE`, and `STREAK_DIFFERENCE`\n",
    " \n",
    " # The model's parameters will be criterion = 'entropy', max_depth = 4, n_estimators = 100\n",
    " \n",
    " # The threshold value will be 0.50499\n",
    " \n",
    " # The testing accuracy of this model is 66.16%"
   ]
  },
  {
   "cell_type": "code",
   "execution_count": null,
   "id": "ba717aba",
   "metadata": {},
   "outputs": [],
   "source": []
  }
 ],
 "metadata": {
  "kernelspec": {
   "display_name": "Python 3",
   "language": "python",
   "name": "python3"
  },
  "language_info": {
   "codemirror_mode": {
    "name": "ipython",
    "version": 3
   },
   "file_extension": ".py",
   "mimetype": "text/x-python",
   "name": "python",
   "nbconvert_exporter": "python",
   "pygments_lexer": "ipython3",
   "version": "3.8.10"
  }
 },
 "nbformat": 4,
 "nbformat_minor": 5
}
